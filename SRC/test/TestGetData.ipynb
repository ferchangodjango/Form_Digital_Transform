{
 "cells": [
  {
   "cell_type": "code",
   "execution_count": 1,
   "id": "f62eb649-f1d4-4b50-b32e-e5b0189bf814",
   "metadata": {},
   "outputs": [],
   "source": [
    "import sys\n",
    "sys.path.append('C:/Users/ferna/Documents/Flask_projects/Flask_excericise_report/SRC/')\n",
    "\n",
    "from DataAnalisys.Query import Query\n",
    "from DB import ManageResources\n",
    "from mysql.connector import Error\n",
    "import mysql.connector \n",
    "import pandas as pd\n"
   ]
  },
  {
   "cell_type": "code",
   "execution_count": 2,
   "id": "b0c0196f-2861-4a9f-bfeb-28ba36bf095d",
   "metadata": {},
   "outputs": [
    {
     "name": "stdout",
     "output_type": "stream",
     "text": [
      "La conección a sido cerrada\n"
     ]
    }
   ],
   "source": [
    "\n",
    "try:\n",
    "    connection=mysql.connector.connect(\n",
    "        host='localhost',\n",
    "        port=3306,\n",
    "        user='root',\n",
    "        password='89JQuery78#',\n",
    "        db='question_data')\n",
    "    cursor=connection.cursor()\n",
    "\n",
    "    query=Query.consultingData()\n",
    "    cursor.execute(query)\n",
    "    answer=cursor.fetchall()\n",
    "    DataFrameAnswer=pd.DataFrame(answer)\n",
    "\n",
    "except Exception as ex:\n",
    "    raise Exception(ex)\n",
    "\n",
    "finally:\n",
    "    if connection.is_connected():\n",
    "        connection.close()\n",
    "        print('La conección a sido cerrada')"
   ]
  },
  {
   "cell_type": "markdown",
   "id": "cc5f20c3-aad8-4b18-a882-485971f60517",
   "metadata": {},
   "source": [
    "### The objective is select only one, the company than you want to analize"
   ]
  },
  {
   "cell_type": "code",
   "execution_count": 3,
   "id": "c210e224-029c-4def-9dff-60d95eb8010f",
   "metadata": {},
   "outputs": [
    {
     "data": {
      "text/html": [
       "<div>\n",
       "<style scoped>\n",
       "    .dataframe tbody tr th:only-of-type {\n",
       "        vertical-align: middle;\n",
       "    }\n",
       "\n",
       "    .dataframe tbody tr th {\n",
       "        vertical-align: top;\n",
       "    }\n",
       "\n",
       "    .dataframe thead th {\n",
       "        text-align: right;\n",
       "    }\n",
       "</style>\n",
       "<table border=\"1\" class=\"dataframe\">\n",
       "  <thead>\n",
       "    <tr style=\"text-align: right;\">\n",
       "      <th></th>\n",
       "      <th>0</th>\n",
       "      <th>1</th>\n",
       "      <th>2</th>\n",
       "      <th>3</th>\n",
       "      <th>4</th>\n",
       "      <th>5</th>\n",
       "      <th>6</th>\n",
       "      <th>7</th>\n",
       "      <th>8</th>\n",
       "      <th>9</th>\n",
       "      <th>...</th>\n",
       "      <th>13</th>\n",
       "      <th>14</th>\n",
       "      <th>15</th>\n",
       "      <th>16</th>\n",
       "      <th>17</th>\n",
       "      <th>18</th>\n",
       "      <th>19</th>\n",
       "      <th>20</th>\n",
       "      <th>21</th>\n",
       "      <th>22</th>\n",
       "    </tr>\n",
       "  </thead>\n",
       "  <tbody>\n",
       "    <tr>\n",
       "      <th>4</th>\n",
       "      <td>5</td>\n",
       "      <td>VEQ3</td>\n",
       "      <td>7</td>\n",
       "      <td>8</td>\n",
       "      <td>7</td>\n",
       "      <td>9</td>\n",
       "      <td>7</td>\n",
       "      <td>7</td>\n",
       "      <td>7</td>\n",
       "      <td>8</td>\n",
       "      <td>...</td>\n",
       "      <td>8</td>\n",
       "      <td>6</td>\n",
       "      <td>1</td>\n",
       "      <td>1</td>\n",
       "      <td>1</td>\n",
       "      <td>1</td>\n",
       "      <td>1</td>\n",
       "      <td>1</td>\n",
       "      <td>0</td>\n",
       "      <td>8</td>\n",
       "    </tr>\n",
       "  </tbody>\n",
       "</table>\n",
       "<p>1 rows × 23 columns</p>\n",
       "</div>"
      ],
      "text/plain": [
       "   0     1   2   3   4   5   6   7   8   9   ...  13  14  15  16  17  18  19  \\\n",
       "4   5  VEQ3   7   8   7   9   7   7   7   8  ...   8   6   1   1   1   1   1   \n",
       "\n",
       "   20  21  22  \n",
       "4   1   0   8  \n",
       "\n",
       "[1 rows x 23 columns]"
      ]
     },
     "execution_count": 3,
     "metadata": {},
     "output_type": "execute_result"
    }
   ],
   "source": [
    "DataFrameAnswer[DataFrameAnswer[1]=='VEQ3']"
   ]
  },
  {
   "cell_type": "code",
   "execution_count": 4,
   "id": "cf74d602-fcb7-45ea-a5fe-ff47b4802a26",
   "metadata": {},
   "outputs": [
    {
     "data": {
      "text/html": [
       "<div>\n",
       "<style scoped>\n",
       "    .dataframe tbody tr th:only-of-type {\n",
       "        vertical-align: middle;\n",
       "    }\n",
       "\n",
       "    .dataframe tbody tr th {\n",
       "        vertical-align: top;\n",
       "    }\n",
       "\n",
       "    .dataframe thead th {\n",
       "        text-align: right;\n",
       "    }\n",
       "</style>\n",
       "<table border=\"1\" class=\"dataframe\">\n",
       "  <thead>\n",
       "    <tr style=\"text-align: right;\">\n",
       "      <th></th>\n",
       "      <th>0</th>\n",
       "      <th>1</th>\n",
       "      <th>2</th>\n",
       "      <th>3</th>\n",
       "      <th>4</th>\n",
       "      <th>5</th>\n",
       "      <th>6</th>\n",
       "      <th>7</th>\n",
       "      <th>8</th>\n",
       "      <th>9</th>\n",
       "      <th>...</th>\n",
       "      <th>13</th>\n",
       "      <th>14</th>\n",
       "      <th>15</th>\n",
       "      <th>16</th>\n",
       "      <th>17</th>\n",
       "      <th>18</th>\n",
       "      <th>19</th>\n",
       "      <th>20</th>\n",
       "      <th>21</th>\n",
       "      <th>22</th>\n",
       "    </tr>\n",
       "  </thead>\n",
       "  <tbody>\n",
       "    <tr>\n",
       "      <th>4</th>\n",
       "      <td>5</td>\n",
       "      <td>VEQ3</td>\n",
       "      <td>7</td>\n",
       "      <td>8</td>\n",
       "      <td>7</td>\n",
       "      <td>9</td>\n",
       "      <td>7</td>\n",
       "      <td>7</td>\n",
       "      <td>7</td>\n",
       "      <td>8</td>\n",
       "      <td>...</td>\n",
       "      <td>8</td>\n",
       "      <td>6</td>\n",
       "      <td>1</td>\n",
       "      <td>1</td>\n",
       "      <td>1</td>\n",
       "      <td>1</td>\n",
       "      <td>1</td>\n",
       "      <td>1</td>\n",
       "      <td>0</td>\n",
       "      <td>8</td>\n",
       "    </tr>\n",
       "  </tbody>\n",
       "</table>\n",
       "<p>1 rows × 23 columns</p>\n",
       "</div>"
      ],
      "text/plain": [
       "   0     1   2   3   4   5   6   7   8   9   ...  13  14  15  16  17  18  19  \\\n",
       "4   5  VEQ3   7   8   7   9   7   7   7   8  ...   8   6   1   1   1   1   1   \n",
       "\n",
       "   20  21  22  \n",
       "4   1   0   8  \n",
       "\n",
       "[1 rows x 23 columns]"
      ]
     },
     "execution_count": 4,
     "metadata": {},
     "output_type": "execute_result"
    }
   ],
   "source": [
    "\n",
    "Only_One_Company=DataFrameAnswer[DataFrameAnswer[1]=='VEQ3']\n",
    "Only_One_Company"
   ]
  },
  {
   "cell_type": "code",
   "execution_count": 5,
   "id": "b1931700-ce9b-460f-9270-12a24b1f7b28",
   "metadata": {},
   "outputs": [],
   "source": [
    "Only_One_Company=Only_One_Company.rename(columns={\n",
    "                                                 0:\"¿TIENE CLARO EL OBJETIVO DE SU EMPRESA?\",\n",
    "                                                 1:\"NOMBRE DE LA EMPRESA\",\n",
    "                                                 2:\"¿TIENE CLARO SUS OBJETIVOS SEMANALES?\",\n",
    "                                                 3:\"¿PROGRAMA SECIONES PARA DEFINIR LOS OBJETIVOS?\",\n",
    "                                                 4:\"¿MANEJA UN CRONOGRAMA CON LOS HITOS IMPORTANTES?\",\n",
    "                                                 5:\"¿SE APEGA A LA PLANEACIÓN DE SUS OBJETIVOS EN TIEMPO Y FORMA?\",\n",
    "                                                 6:\"¿ADECUA SUS ESTRATEGIAS PARA CUMPLIR CON LAS EXPECTATIVAS DE SUS CLIENTES?\",\n",
    "                                                 7:\"¿CAMBIA DE PLANES SIN AVISAR A SU EQUIPO?\",\n",
    "                                                 8:\"¿ACTUA DE MANERA RAPIDA PARA RESOLVER UN PROBLEMA?\",\n",
    "                                                 9:\"¿EXPLORA NUEVOS CAMINOS PARA RESOLVER UN PROBLEMA?\",\n",
    "                                                 10:\"¿SU EQUIPO PROPONE SOLUCIONES PARA RESOLVER UN PROBLEMA?\",\n",
    "                                                 11:\"¿PROGRAMA REUNIONES DE TRABAJO CON SU EQUIPO PARA DAR PROPUESTAS?\",\n",
    "                                                 12:\"¿ACTUA DE MANERA RAPIDA PARA RESOLVER UN PROBLEMA?\",\n",
    "                                                 13:\"¿SOLICITA AYUDA EXTERNA, COMO CONSULTORIAS, PARA RESOLVER UN PROBLEMA?\",\n",
    "                                                 14:\"¿TIENE DEFINIDOS CORRECTAMENTE LOS ROLES DENTRO DE SU ORGANIZACIÓN?\",\n",
    "                                                 15:\"¿IMPLEMENTA CAPACITACIONES PARA SUS TRABAJADORES?\",\n",
    "                                                 16:\"¿IMPLEMENTA KPI PARA TENER ESTATUS DE SUS PROYECTOS?\",\n",
    "                                                 17:\"¿INVIERTE EN AUTOMATIZACION DE PROCESOS?\",\n",
    "                                                 18:\"¿TIENE UNA PAGINA WEB ?\",\n",
    "                                                 19:\"¿TIENE UNA TIENDA ONLINE?\",\n",
    "                                                 20:\"¿REALIZA CAMPAÑAS DE MARKETING DIGITAL?\",\n",
    "                                                 21:\"¿TIENE SERVICIO DE ATENCION AL CLIENTE?\",\n",
    "                                                 22:\"¿DEL TOTAL DE REPORTES QUE MANEJA, QUE PORCENTAJE ESTA AUTOMATIZADO?\"\n",
    "                                                 })"
   ]
  },
  {
   "cell_type": "code",
   "execution_count": 6,
   "id": "e49e21f0-be77-460e-9e3c-e56e31529ac8",
   "metadata": {},
   "outputs": [
    {
     "data": {
      "text/html": [
       "<div>\n",
       "<style scoped>\n",
       "    .dataframe tbody tr th:only-of-type {\n",
       "        vertical-align: middle;\n",
       "    }\n",
       "\n",
       "    .dataframe tbody tr th {\n",
       "        vertical-align: top;\n",
       "    }\n",
       "\n",
       "    .dataframe thead th {\n",
       "        text-align: right;\n",
       "    }\n",
       "</style>\n",
       "<table border=\"1\" class=\"dataframe\">\n",
       "  <thead>\n",
       "    <tr style=\"text-align: right;\">\n",
       "      <th></th>\n",
       "      <th>¿TIENE CLARO EL OBJETIVO DE SU EMPRESA?</th>\n",
       "      <th>NOMBRE DE LA EMPRESA</th>\n",
       "      <th>¿TIENE CLARO SUS OBJETIVOS SEMANALES?</th>\n",
       "      <th>¿PROGRAMA SECIONES PARA DEFINIR LOS OBJETIVOS?</th>\n",
       "      <th>¿MANEJA UN CRONOGRAMA CON LOS HITOS IMPORTANTES?</th>\n",
       "      <th>¿SE APEGA A LA PLANEACIÓN DE SUS OBJETIVOS EN TIEMPO Y FORMA?</th>\n",
       "      <th>¿ADECUA SUS ESTRATEGIAS PARA CUMPLIR CON LAS EXPECTATIVAS DE SUS CLIENTES?</th>\n",
       "      <th>¿CAMBIA DE PLANES SIN AVISAR A SU EQUIPO?</th>\n",
       "      <th>¿ACTUA DE MANERA RAPIDA PARA RESOLVER UN PROBLEMA?</th>\n",
       "      <th>¿EXPLORA NUEVOS CAMINOS PARA RESOLVER UN PROBLEMA?</th>\n",
       "      <th>...</th>\n",
       "      <th>¿SOLICITA AYUDA EXTERNA, COMO CONSULTORIAS, PARA RESOLVER UN PROBLEMA?</th>\n",
       "      <th>¿TIENE DEFINIDOS CORRECTAMENTE LOS ROLES DENTRO DE SU ORGANIZACIÓN?</th>\n",
       "      <th>¿IMPLEMENTA CAPACITACIONES PARA SUS TRABAJADORES?</th>\n",
       "      <th>¿IMPLEMENTA KPI PARA TENER ESTATUS DE SUS PROYECTOS?</th>\n",
       "      <th>¿INVIERTE EN AUTOMATIZACION DE PROCESOS?</th>\n",
       "      <th>¿TIENE UNA PAGINA WEB ?</th>\n",
       "      <th>¿TIENE UNA TIENDA ONLINE?</th>\n",
       "      <th>¿REALIZA CAMPAÑAS DE MARKETING DIGITAL?</th>\n",
       "      <th>¿TIENE SERVICIO DE ATENCION AL CLIENTE?</th>\n",
       "      <th>¿DEL TOTAL DE REPORTES QUE MANEJA, QUE PORCENTAJE ESTA AUTOMATIZADO?</th>\n",
       "    </tr>\n",
       "  </thead>\n",
       "  <tbody>\n",
       "    <tr>\n",
       "      <th>4</th>\n",
       "      <td>5</td>\n",
       "      <td>VEQ3</td>\n",
       "      <td>7</td>\n",
       "      <td>8</td>\n",
       "      <td>7</td>\n",
       "      <td>9</td>\n",
       "      <td>7</td>\n",
       "      <td>7</td>\n",
       "      <td>7</td>\n",
       "      <td>8</td>\n",
       "      <td>...</td>\n",
       "      <td>8</td>\n",
       "      <td>6</td>\n",
       "      <td>1</td>\n",
       "      <td>1</td>\n",
       "      <td>1</td>\n",
       "      <td>1</td>\n",
       "      <td>1</td>\n",
       "      <td>1</td>\n",
       "      <td>0</td>\n",
       "      <td>8</td>\n",
       "    </tr>\n",
       "  </tbody>\n",
       "</table>\n",
       "<p>1 rows × 23 columns</p>\n",
       "</div>"
      ],
      "text/plain": [
       "   ¿TIENE CLARO EL OBJETIVO DE SU EMPRESA? NOMBRE DE LA EMPRESA  \\\n",
       "4                                        5                 VEQ3   \n",
       "\n",
       "   ¿TIENE CLARO SUS OBJETIVOS SEMANALES?  \\\n",
       "4                                      7   \n",
       "\n",
       "   ¿PROGRAMA SECIONES PARA DEFINIR LOS OBJETIVOS?  \\\n",
       "4                                               8   \n",
       "\n",
       "   ¿MANEJA UN CRONOGRAMA CON LOS HITOS IMPORTANTES?  \\\n",
       "4                                                 7   \n",
       "\n",
       "   ¿SE APEGA A LA PLANEACIÓN DE SUS OBJETIVOS EN TIEMPO Y FORMA?  \\\n",
       "4                                                  9               \n",
       "\n",
       "   ¿ADECUA SUS ESTRATEGIAS PARA CUMPLIR CON LAS EXPECTATIVAS DE SUS CLIENTES?  \\\n",
       "4                                                  7                            \n",
       "\n",
       "   ¿CAMBIA DE PLANES SIN AVISAR A SU EQUIPO?  \\\n",
       "4                                          7   \n",
       "\n",
       "   ¿ACTUA DE MANERA RAPIDA PARA RESOLVER UN PROBLEMA?  \\\n",
       "4                                                  7    \n",
       "\n",
       "   ¿EXPLORA NUEVOS CAMINOS PARA RESOLVER UN PROBLEMA?  ...  \\\n",
       "4                                                  8   ...   \n",
       "\n",
       "   ¿SOLICITA AYUDA EXTERNA, COMO CONSULTORIAS, PARA RESOLVER UN PROBLEMA?  \\\n",
       "4                                                  8                        \n",
       "\n",
       "   ¿TIENE DEFINIDOS CORRECTAMENTE LOS ROLES DENTRO DE SU ORGANIZACIÓN?  \\\n",
       "4                                                  6                     \n",
       "\n",
       "   ¿IMPLEMENTA CAPACITACIONES PARA SUS TRABAJADORES?  \\\n",
       "4                                                  1   \n",
       "\n",
       "   ¿IMPLEMENTA KPI PARA TENER ESTATUS DE SUS PROYECTOS?  \\\n",
       "4                                                  1      \n",
       "\n",
       "   ¿INVIERTE EN AUTOMATIZACION DE PROCESOS?  ¿TIENE UNA PAGINA WEB ?  \\\n",
       "4                                         1                        1   \n",
       "\n",
       "   ¿TIENE UNA TIENDA ONLINE?  ¿REALIZA CAMPAÑAS DE MARKETING DIGITAL?  \\\n",
       "4                          1                                        1   \n",
       "\n",
       "   ¿TIENE SERVICIO DE ATENCION AL CLIENTE?  \\\n",
       "4                                        0   \n",
       "\n",
       "   ¿DEL TOTAL DE REPORTES QUE MANEJA, QUE PORCENTAJE ESTA AUTOMATIZADO?  \n",
       "4                                                  8                     \n",
       "\n",
       "[1 rows x 23 columns]"
      ]
     },
     "execution_count": 6,
     "metadata": {},
     "output_type": "execute_result"
    }
   ],
   "source": [
    "Only_One_Company"
   ]
  },
  {
   "cell_type": "code",
   "execution_count": 7,
   "id": "ff599d86-5f82-4f54-b0f4-3b5d3ff1994e",
   "metadata": {},
   "outputs": [],
   "source": [
    "### We need to transform this row, in a table, the operation than we need are:\n",
    "### Transpose\n",
    "### Divide for sections\n",
    "### Evaluation for sections\n",
    "### Join againg\n",
    "### Concidere than existe 4 sections\n",
    "### The first section is the question 2 to 7\n",
    "### The second section is the question 8 to 12\n",
    "### The third section is the question 13 to 17\n",
    "### The ford section is the question 18 to 22"
   ]
  },
  {
   "cell_type": "code",
   "execution_count": 8,
   "id": "e01217a4-1cf8-46f3-9b60-2d3dec4ff7f8",
   "metadata": {},
   "outputs": [],
   "source": [
    "#Transpose the data frame\n",
    "Get_Data_Transform=Only_One_Company.transpose()"
   ]
  },
  {
   "cell_type": "code",
   "execution_count": 9,
   "id": "55b8eb54-4e2a-4fac-a6ac-9f8a7a45bf0d",
   "metadata": {},
   "outputs": [],
   "source": [
    "Get_Data_Transform=Get_Data_Transform.reset_index()"
   ]
  },
  {
   "cell_type": "code",
   "execution_count": 10,
   "id": "34e9f156-07b4-4598-a964-2f3dec86c5b4",
   "metadata": {},
   "outputs": [],
   "source": [
    "#Eliminate the fisrt column\n",
    "Get_Data_Transform=Get_Data_Transform.iloc[1:,]"
   ]
  },
  {
   "cell_type": "code",
   "execution_count": 11,
   "id": "e178fd78-f042-4484-b418-f88de53833ee",
   "metadata": {},
   "outputs": [
    {
     "ename": "KeyError",
     "evalue": "0",
     "output_type": "error",
     "traceback": [
      "\u001b[1;31m---------------------------------------------------------------------------\u001b[0m",
      "\u001b[1;31mKeyError\u001b[0m                                  Traceback (most recent call last)",
      "File \u001b[1;32m~\\Documents\\Flask_projects\\Flask_login_excersice7\\env\\lib\\site-packages\\pandas\\core\\indexes\\base.py:3805\u001b[0m, in \u001b[0;36mIndex.get_loc\u001b[1;34m(self, key)\u001b[0m\n\u001b[0;32m   3804\u001b[0m \u001b[38;5;28;01mtry\u001b[39;00m:\n\u001b[1;32m-> 3805\u001b[0m     \u001b[38;5;28;01mreturn\u001b[39;00m \u001b[38;5;28;43mself\u001b[39;49m\u001b[38;5;241;43m.\u001b[39;49m\u001b[43m_engine\u001b[49m\u001b[38;5;241;43m.\u001b[39;49m\u001b[43mget_loc\u001b[49m\u001b[43m(\u001b[49m\u001b[43mcasted_key\u001b[49m\u001b[43m)\u001b[49m\n\u001b[0;32m   3806\u001b[0m \u001b[38;5;28;01mexcept\u001b[39;00m \u001b[38;5;167;01mKeyError\u001b[39;00m \u001b[38;5;28;01mas\u001b[39;00m err:\n",
      "File \u001b[1;32mindex.pyx:167\u001b[0m, in \u001b[0;36mpandas._libs.index.IndexEngine.get_loc\u001b[1;34m()\u001b[0m\n",
      "File \u001b[1;32mindex.pyx:196\u001b[0m, in \u001b[0;36mpandas._libs.index.IndexEngine.get_loc\u001b[1;34m()\u001b[0m\n",
      "File \u001b[1;32mpandas\\\\_libs\\\\hashtable_class_helper.pxi:7081\u001b[0m, in \u001b[0;36mpandas._libs.hashtable.PyObjectHashTable.get_item\u001b[1;34m()\u001b[0m\n",
      "File \u001b[1;32mpandas\\\\_libs\\\\hashtable_class_helper.pxi:7089\u001b[0m, in \u001b[0;36mpandas._libs.hashtable.PyObjectHashTable.get_item\u001b[1;34m()\u001b[0m\n",
      "\u001b[1;31mKeyError\u001b[0m: 0",
      "\nThe above exception was the direct cause of the following exception:\n",
      "\u001b[1;31mKeyError\u001b[0m                                  Traceback (most recent call last)",
      "Cell \u001b[1;32mIn[11], line 1\u001b[0m\n\u001b[1;32m----> 1\u001b[0m ColumnName\u001b[38;5;241m=\u001b[39m\u001b[43mGet_Data_Transform\u001b[49m\u001b[38;5;241;43m.\u001b[39;49m\u001b[43miloc\u001b[49m\u001b[43m[\u001b[49m\u001b[38;5;241;43m0\u001b[39;49m\u001b[43m]\u001b[49m\u001b[43m[\u001b[49m\u001b[38;5;241;43m0\u001b[39;49m\u001b[43m]\u001b[49m\n",
      "File \u001b[1;32m~\\Documents\\Flask_projects\\Flask_login_excersice7\\env\\lib\\site-packages\\pandas\\core\\series.py:1112\u001b[0m, in \u001b[0;36mSeries.__getitem__\u001b[1;34m(self, key)\u001b[0m\n\u001b[0;32m   1109\u001b[0m     \u001b[38;5;28;01mreturn\u001b[39;00m \u001b[38;5;28mself\u001b[39m\u001b[38;5;241m.\u001b[39m_values[key]\n\u001b[0;32m   1111\u001b[0m \u001b[38;5;28;01melif\u001b[39;00m key_is_scalar:\n\u001b[1;32m-> 1112\u001b[0m     \u001b[38;5;28;01mreturn\u001b[39;00m \u001b[38;5;28;43mself\u001b[39;49m\u001b[38;5;241;43m.\u001b[39;49m\u001b[43m_get_value\u001b[49m\u001b[43m(\u001b[49m\u001b[43mkey\u001b[49m\u001b[43m)\u001b[49m\n\u001b[0;32m   1114\u001b[0m \u001b[38;5;66;03m# Convert generator to list before going through hashable part\u001b[39;00m\n\u001b[0;32m   1115\u001b[0m \u001b[38;5;66;03m# (We will iterate through the generator there to check for slices)\u001b[39;00m\n\u001b[0;32m   1116\u001b[0m \u001b[38;5;28;01mif\u001b[39;00m is_iterator(key):\n",
      "File \u001b[1;32m~\\Documents\\Flask_projects\\Flask_login_excersice7\\env\\lib\\site-packages\\pandas\\core\\series.py:1228\u001b[0m, in \u001b[0;36mSeries._get_value\u001b[1;34m(self, label, takeable)\u001b[0m\n\u001b[0;32m   1225\u001b[0m     \u001b[38;5;28;01mreturn\u001b[39;00m \u001b[38;5;28mself\u001b[39m\u001b[38;5;241m.\u001b[39m_values[label]\n\u001b[0;32m   1227\u001b[0m \u001b[38;5;66;03m# Similar to Index.get_value, but we do not fall back to positional\u001b[39;00m\n\u001b[1;32m-> 1228\u001b[0m loc \u001b[38;5;241m=\u001b[39m \u001b[38;5;28;43mself\u001b[39;49m\u001b[38;5;241;43m.\u001b[39;49m\u001b[43mindex\u001b[49m\u001b[38;5;241;43m.\u001b[39;49m\u001b[43mget_loc\u001b[49m\u001b[43m(\u001b[49m\u001b[43mlabel\u001b[49m\u001b[43m)\u001b[49m\n\u001b[0;32m   1230\u001b[0m \u001b[38;5;28;01mif\u001b[39;00m is_integer(loc):\n\u001b[0;32m   1231\u001b[0m     \u001b[38;5;28;01mreturn\u001b[39;00m \u001b[38;5;28mself\u001b[39m\u001b[38;5;241m.\u001b[39m_values[loc]\n",
      "File \u001b[1;32m~\\Documents\\Flask_projects\\Flask_login_excersice7\\env\\lib\\site-packages\\pandas\\core\\indexes\\base.py:3812\u001b[0m, in \u001b[0;36mIndex.get_loc\u001b[1;34m(self, key)\u001b[0m\n\u001b[0;32m   3807\u001b[0m     \u001b[38;5;28;01mif\u001b[39;00m \u001b[38;5;28misinstance\u001b[39m(casted_key, \u001b[38;5;28mslice\u001b[39m) \u001b[38;5;129;01mor\u001b[39;00m (\n\u001b[0;32m   3808\u001b[0m         \u001b[38;5;28misinstance\u001b[39m(casted_key, abc\u001b[38;5;241m.\u001b[39mIterable)\n\u001b[0;32m   3809\u001b[0m         \u001b[38;5;129;01mand\u001b[39;00m \u001b[38;5;28many\u001b[39m(\u001b[38;5;28misinstance\u001b[39m(x, \u001b[38;5;28mslice\u001b[39m) \u001b[38;5;28;01mfor\u001b[39;00m x \u001b[38;5;129;01min\u001b[39;00m casted_key)\n\u001b[0;32m   3810\u001b[0m     ):\n\u001b[0;32m   3811\u001b[0m         \u001b[38;5;28;01mraise\u001b[39;00m InvalidIndexError(key)\n\u001b[1;32m-> 3812\u001b[0m     \u001b[38;5;28;01mraise\u001b[39;00m \u001b[38;5;167;01mKeyError\u001b[39;00m(key) \u001b[38;5;28;01mfrom\u001b[39;00m \u001b[38;5;21;01merr\u001b[39;00m\n\u001b[0;32m   3813\u001b[0m \u001b[38;5;28;01mexcept\u001b[39;00m \u001b[38;5;167;01mTypeError\u001b[39;00m:\n\u001b[0;32m   3814\u001b[0m     \u001b[38;5;66;03m# If we have a listlike key, _check_indexing_error will raise\u001b[39;00m\n\u001b[0;32m   3815\u001b[0m     \u001b[38;5;66;03m#  InvalidIndexError. Otherwise we fall through and re-raise\u001b[39;00m\n\u001b[0;32m   3816\u001b[0m     \u001b[38;5;66;03m#  the TypeError.\u001b[39;00m\n\u001b[0;32m   3817\u001b[0m     \u001b[38;5;28mself\u001b[39m\u001b[38;5;241m.\u001b[39m_check_indexing_error(key)\n",
      "\u001b[1;31mKeyError\u001b[0m: 0"
     ]
    }
   ],
   "source": [
    "ColumnName=Get_Data_Transform.iloc[0][0]"
   ]
  },
  {
   "cell_type": "code",
   "execution_count": null,
   "id": "2fa011ec-05e4-42fc-ae95-f2a4d0ff3e9c",
   "metadata": {},
   "outputs": [],
   "source": [
    "#Rename the dataFrame\n",
    "Get_Data_Transform=Get_Data_Transform.rename(columns={0:ColumnName,\n",
    "                                                      \"index\":\"QUESTIONS\"})"
   ]
  },
  {
   "cell_type": "code",
   "execution_count": null,
   "id": "51d5e94e-61f8-41df-b0e5-57059577d692",
   "metadata": {},
   "outputs": [],
   "source": [
    "#Eliminate the first column again\n",
    "Get_Data_Transform=Get_Data_Transform.iloc[1:,]"
   ]
  },
  {
   "cell_type": "code",
   "execution_count": null,
   "id": "2bb6b2e9-fb49-4846-b1dc-a72d309f6e3d",
   "metadata": {},
   "outputs": [],
   "source": [
    "#First section\n",
    "Get_Data_Transform"
   ]
  },
  {
   "cell_type": "code",
   "execution_count": null,
   "id": "17099276-4bd2-457a-a7af-fff51cd14fa2",
   "metadata": {},
   "outputs": [],
   "source": [
    "### Need to create a data frame with the same columns, but with the target"
   ]
  },
  {
   "cell_type": "code",
   "execution_count": null,
   "id": "f7e43399-7e63-40d3-ac96-6e140a6467bd",
   "metadata": {},
   "outputs": [],
   "source": [
    "VALUES_REFERENCE=[10,10,10,10,10,10,10,10,10,10,10,10,10,10,10,10,10,1,1,1,1,10]"
   ]
  },
  {
   "cell_type": "code",
   "execution_count": null,
   "id": "b111818b-acad-4b66-87c5-0f062c57cab5",
   "metadata": {},
   "outputs": [],
   "source": [
    "QUESTION_REFERENCE=[\"¿TIENE CLARO EL OBJETIVO DE SU EMPRESA?\",\n",
    "\"¿TIENE CLARO SUS OBJETIVOS SEMANALES?\",\n",
    "\"¿PROGRAMA SECIONES PARA DEFINIR LOS OBJETIVOS?\",\n",
    "\"¿MANEJA UN CRONOGRAMA CON LOS HITOS IMPORTANTES?\",\n",
    "\"¿SE APEGA A LA PLANEACIÓN DE SUS OBJETIVOS EN TIEMPO Y FORMA?\",\n",
    "\"¿ADECUA SUS ESTRATEGIAS PARA CUMPLIR CON LAS EXPECTATIVAS DE SUS CLIENTES?\",\n",
    "\"¿CAMBIA DE PLANES SIN AVISAR A SU EQUIPO?\",\n",
    "\"¿ACTUA DE MANERA RAPIDA PARA RESOLVER UN PROBLEMA?\",\n",
    "\"¿EXPLORA NUEVOS CAMINOS PARA RESOLVER UN PROBLEMA?\",\n",
    "\"¿SU EQUIPO PROPONE SOLUCIONES PARA RESOLVER UN PROBLEMA?\",\n",
    "\"¿PROGRAMA REUNIONES DE TRABAJO CON SU EQUIPO PARA DAR PROPUESTAS?\",\n",
    "\"¿ACTUA DE MANERA RAPIDA PARA RESOLVER UN PROBLEMA?\",\n",
    "\"¿SOLICITA AYUDA EXTERNA, COMO CONSULTORIAS, PARA RESOLVER UN PROBLEMA?\",\n",
    "\"¿TIENE DEFINIDOS CORRECTAMENTE LOS ROLES DENTRO DE SU ORGANIZACIÓN?\",\n",
    "\"¿IMPLEMENTA CAPACITACIONES PARA SUS TRABAJADORES?\",\n",
    "\"¿IMPLEMENTA KPI PARA TENER ESTATUS DE SUS PROYECTOS?\",\n",
    "\"¿INVIERTE EN AUTOMATIZACION DE PROCESOS?\",\n",
    "\"¿TIENE UNA PAGINA WEB ?\",\n",
    "\"¿TIENE UNA TIENDA ONLINE?\",\n",
    "\"¿REALIZA CAMPAÑAS DE MARKETING DIGITAL?\",\n",
    "\"¿TIENE SERVICIO DE ATENCION AL CLIENTE?\",\n",
    "\"¿DEL TOTAL DE REPORTES QUE MANEJA, QUE PORCENTAJE ESTA AUTOMATIZADO?\"]"
   ]
  },
  {
   "cell_type": "code",
   "execution_count": null,
   "id": "8299b0d5-1d85-4463-80af-9d391e157864",
   "metadata": {},
   "outputs": [],
   "source": [
    "CATEGORY_REFERENCE=[\n",
    "\"STRATEGY\",\n",
    "\"STRATEGY\",\n",
    "\"STRATEGY\",\n",
    "\"STRATEGY\",\n",
    "\"STRATEGY\",\n",
    "\"STRATEGY\",\n",
    "\"CULTURE\",\n",
    "\"CULTURE\",\n",
    "\"CULTURE\",\n",
    "\"CULTURE\",\n",
    "\"CULTURE\",\n",
    "\"CULTURE\",\n",
    "\"CULTURE\",\n",
    "\"ORGANIZATION\",\n",
    "\"ORGANIZATION\",\n",
    "\"ORGANIZATION\",\n",
    "\"ORGANIZATION\",\n",
    "\"CAPACITY\",\n",
    "\"CAPACITY\",\n",
    "\"CAPACITY\",\n",
    "\"CAPACITY\",\n",
    "\"CAPACITY\"]"
   ]
  },
  {
   "cell_type": "code",
   "execution_count": null,
   "id": "91af2592-d56a-4043-bd21-6435410559a2",
   "metadata": {},
   "outputs": [],
   "source": [
    "print(len(VALUES_REFERENCE))\n",
    "print(len(QUESTION_REFERENCE))\n",
    "print(len(CATEGORY_REFERENCE))\n"
   ]
  },
  {
   "cell_type": "code",
   "execution_count": null,
   "id": "cb7c828c-ac92-458f-bc3c-3b9580f5f8f4",
   "metadata": {},
   "outputs": [],
   "source": [
    "DATA_REFERENCE={\"REFERENCE\":VALUES_REFERENCE,\n",
    "                \"QUESTIONS\":QUESTION_REFERENCE,\n",
    "                \"CATEGORY\":CATEGORY_REFERENCE}"
   ]
  },
  {
   "cell_type": "code",
   "execution_count": null,
   "id": "7b884e6b-258b-4788-a290-12079424b953",
   "metadata": {},
   "outputs": [],
   "source": [
    "REFERENCE_DATAFRAME=pd.DataFrame(DATA_REFERENCE)"
   ]
  },
  {
   "cell_type": "code",
   "execution_count": null,
   "id": "64e0841d-c7ef-47ee-bfda-169030fb7e3c",
   "metadata": {},
   "outputs": [],
   "source": [
    "REFERENCE_DATAFRAME"
   ]
  },
  {
   "cell_type": "code",
   "execution_count": null,
   "id": "1cc7aa02-3ed3-4093-b7e8-f2daea4e1dcf",
   "metadata": {},
   "outputs": [],
   "source": [
    "### In this point we join two data frames"
   ]
  },
  {
   "cell_type": "code",
   "execution_count": null,
   "id": "4a85eadd-cc5a-4cdf-9251-de733caeadb7",
   "metadata": {},
   "outputs": [],
   "source": [
    "ALL_DATA=REFERENCE_DATAFRAME.merge(Get_Data_Transform)"
   ]
  },
  {
   "cell_type": "code",
   "execution_count": null,
   "id": "e3a38853-1a53-41e8-a10b-38f06dd853b9",
   "metadata": {},
   "outputs": [],
   "source": [
    "ALL_DATA"
   ]
  },
  {
   "cell_type": "code",
   "execution_count": null,
   "id": "9438a254-46a2-4b29-93a8-9b4a56c23a26",
   "metadata": {},
   "outputs": [],
   "source": [
    "Operations={'REFERENCE':'sum',ColumnName:'sum'}"
   ]
  },
  {
   "cell_type": "code",
   "execution_count": null,
   "id": "bed06f7f-bb71-424d-a1b2-67041ef332dc",
   "metadata": {},
   "outputs": [],
   "source": [
    "ALL_DATA_GROUP=ALL_DATA.groupby('CATEGORY').agg(Operations)"
   ]
  },
  {
   "cell_type": "code",
   "execution_count": null,
   "id": "b423cbe5-e9cd-4e45-aa96-f56c65b0896d",
   "metadata": {},
   "outputs": [],
   "source": [
    "ALL_DATA_GROUP['REFERENCE %']=ALL_DATA_GROUP['REFERENCE']/ALL_DATA_GROUP['REFERENCE']\n",
    "ALL_DATA_GROUP['REAL %']=ALL_DATA_GROUP[ColumnName]/ALL_DATA_GROUP['REFERENCE']"
   ]
  },
  {
   "cell_type": "code",
   "execution_count": null,
   "id": "b97ed621-fc04-4e24-a306-f95b19bb3018",
   "metadata": {},
   "outputs": [],
   "source": [
    "ALL_DATA_GROUP"
   ]
  },
  {
   "cell_type": "code",
   "execution_count": null,
   "id": "9b33b21c-6479-4d47-9ed1-f738b37bc3e2",
   "metadata": {},
   "outputs": [],
   "source": [
    "import numpy as np\n",
    "from bokeh.plotting import figure, show, output_file\n",
    "from bokeh.models import ColumnDataSource, LabelSet\n"
   ]
  },
  {
   "cell_type": "code",
   "execution_count": null,
   "id": "0b19c3ac-88ec-4abf-a09f-67ca3b8bea8f",
   "metadata": {},
   "outputs": [],
   "source": [
    "ALL_DATA_GROUP=ALL_DATA_GROUP.reset_index()\n"
   ]
  },
  {
   "cell_type": "code",
   "execution_count": null,
   "id": "5627891a-1e7b-422f-83cf-a73f37e493ed",
   "metadata": {},
   "outputs": [],
   "source": [
    "ALL_DATA_GROUP"
   ]
  },
  {
   "cell_type": "code",
   "execution_count": null,
   "id": "dccf5014-544d-4cb4-85d4-aa1c0c81eb0c",
   "metadata": {},
   "outputs": [],
   "source": [
    "NAME_VARS=list(ALL_DATA_GROUP['CATEGORY'].unique())\n",
    "num_vars=len(NAME_VARS)\n",
    "centre = 0.5\n",
    "\n",
    "theta = np.linspace(0, 2*np.pi, num_vars, endpoint=False)\n",
    "# rotate theta such that the first axis is at the top\n",
    "theta += np.pi/2\n",
    "\n",
    "def unit_poly_verts(theta, centre ):\n",
    "    \"\"\"Return vertices of polygon for subplot axes.\n",
    "    This polygon is circumscribed by a unit circle centered at (0.5, 0.5)\n",
    "    \"\"\"\n",
    "    x0, y0, r = [centre ] * 3\n",
    "    verts = [(r*np.cos(t) + x0, r*np.sin(t) + y0) for t in theta]\n",
    "    return verts\n",
    "\n",
    "def radar_patch(r, theta, centre ):\n",
    "    \"\"\" Returns the x and y coordinates corresponding to the magnitudes of \n",
    "    each variable displayed in the radar plot\n",
    "    \"\"\"\n",
    "    # offset from centre of circle\n",
    "    offset = 0.01\n",
    "    yt = (r*centre + offset) * np.sin(theta) + centre \n",
    "    xt = (r*centre + offset) * np.cos(theta) + centre \n",
    "    return xt, yt\n",
    "    \n",
    "verts = unit_poly_verts(theta, centre)\n",
    "x = [v[0] for v in verts] \n",
    "y = [v[1] for v in verts] \n",
    "\n",
    "p = figure(title=\"Digital habilities - Radar plot\")\n",
    "text = [NAME_VARS[0],NAME_VARS[1],NAME_VARS[2],NAME_VARS[3],'']\n",
    "source = ColumnDataSource({'x':x + [centre ],'y':y + [1],'text':text})\n",
    "\n",
    "p.line(x=\"x\", y=\"y\", source=source)\n",
    "\n",
    "labels = LabelSet(x=\"x\",y=\"y\",text=\"text\",source=source)\n",
    "\n",
    "p.add_layout(labels)\n",
    "\n",
    "# example factor:\n",
    "f1 = np.array(list(ALL_DATA_GROUP[\"REAL %\"]))\n",
    "f2 = np.array([0.07, 0.95, 0.04, 0.05])\n",
    "f3 = np.array([0.01, 0.02, 0.85, 0.19])\n",
    "f4 = np.array([0.02, 0.01, 0.07, 0.01])\n",
    "f5 = np.array([0.01, 0.01, 0.02, 0.71])\n",
    "#xt = np.array(x)\n",
    "flist = [f1,f2,f3,f4,f5]\n",
    "colors = ['blue','green','red', 'orange','purple']\n",
    "for i in range(len(flist)):\n",
    "    xt, yt = radar_patch(flist[i], theta, centre)\n",
    "    p.patch(x=xt, y=yt, fill_alpha=0.15, fill_color=colors[i])\n",
    "show(p)"
   ]
  },
  {
   "cell_type": "code",
   "execution_count": null,
   "id": "4c693f7e-b5e1-4d4d-9443-6db70ea0b5da",
   "metadata": {},
   "outputs": [],
   "source": []
  }
 ],
 "metadata": {
  "kernelspec": {
   "display_name": "Python 3 (ipykernel)",
   "language": "python",
   "name": "python3"
  },
  "language_info": {
   "codemirror_mode": {
    "name": "ipython",
    "version": 3
   },
   "file_extension": ".py",
   "mimetype": "text/x-python",
   "name": "python",
   "nbconvert_exporter": "python",
   "pygments_lexer": "ipython3",
   "version": "3.10.1"
  }
 },
 "nbformat": 4,
 "nbformat_minor": 5
}
