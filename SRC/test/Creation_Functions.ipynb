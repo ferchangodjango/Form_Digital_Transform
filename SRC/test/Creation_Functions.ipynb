{
 "cells": [
  {
   "cell_type": "code",
   "execution_count": 1,
   "id": "b1121432-1368-4949-bb2a-285ddf6d37f8",
   "metadata": {},
   "outputs": [],
   "source": [
    "import sys\n",
    "sys.path.append('C:/Users/ferna/Documents/Flask_projects/Flask_excericise_report/SRC/')\n",
    "\n",
    "from DataAnalisys.Query import Query\n",
    "from DB import ManageResources\n",
    "from mysql.connector import Error\n",
    "import mysql.connector \n",
    "import pandas as pd\n",
    "import numpy as np\n",
    "from bokeh.plotting import figure, show, output_file\n",
    "from bokeh.models import ColumnDataSource, LabelSet"
   ]
  },
  {
   "cell_type": "code",
   "execution_count": 2,
   "id": "56f99616-fd19-4cdd-a019-566c8bfe1434",
   "metadata": {
    "scrolled": true
   },
   "outputs": [
    {
     "name": "stdout",
     "output_type": "stream",
     "text": [
      "La conección a sido cerrada\n"
     ]
    }
   ],
   "source": [
    "try:\n",
    "    connection=mysql.connector.connect(\n",
    "        host='localhost',\n",
    "        port=3306,\n",
    "        user='root',\n",
    "        password='89JQuery78#',\n",
    "        db='question_data')\n",
    "    cursor=connection.cursor()\n",
    "\n",
    "    query=Query.consultingData()\n",
    "    cursor.execute(query)\n",
    "    answer=cursor.fetchall()\n",
    "    DataFrameAnswer=pd.DataFrame(answer)\n",
    "\n",
    "except Exception as ex:\n",
    "    raise Exception(ex)\n",
    "\n",
    "finally:\n",
    "    if connection.is_connected():\n",
    "        connection.close()\n",
    "        print('La conección a sido cerrada')"
   ]
  },
  {
   "cell_type": "code",
   "execution_count": 3,
   "id": "5e4ca47e-80b8-4a1a-8bce-e80aa2e30b39",
   "metadata": {},
   "outputs": [],
   "source": [
    "Questions={\n",
    "             0:\"¿TIENE CLARO EL OBJETIVO DE SU EMPRESA?\",\n",
    "             1:\"NOMBRE DE LA EMPRESA\",\n",
    "             2:\"¿TIENE CLARO SUS OBJETIVOS SEMANALES?\",\n",
    "             3:\"¿PROGRAMA SECIONES PARA DEFINIR LOS OBJETIVOS?\",\n",
    "             4:\"¿MANEJA UN CRONOGRAMA CON LOS HITOS IMPORTANTES?\",\n",
    "             5:\"¿SE APEGA A LA PLANEACIÓN DE SUS OBJETIVOS EN TIEMPO Y FORMA?\",\n",
    "             6:\"¿ADECUA SUS ESTRATEGIAS PARA CUMPLIR CON LAS EXPECTATIVAS DE SUS CLIENTES?\",\n",
    "             7:\"¿CAMBIA DE PLANES SIN AVISAR A SU EQUIPO?\",\n",
    "             8:\"¿ACTUA DE MANERA RAPIDA PARA RESOLVER UN PROBLEMA?\",\n",
    "             9:\"¿EXPLORA NUEVOS CAMINOS PARA RESOLVER UN PROBLEMA?\",\n",
    "             10:\"¿SU EQUIPO PROPONE SOLUCIONES PARA RESOLVER UN PROBLEMA?\",\n",
    "             11:\"¿PROGRAMA REUNIONES DE TRABAJO CON SU EQUIPO PARA DAR PROPUESTAS?\",\n",
    "             12:\"¿ACTUA DE MANERA RAPIDA PARA RESOLVER UN PROBLEMA?\",\n",
    "             13:\"¿SOLICITA AYUDA EXTERNA, COMO CONSULTORIAS, PARA RESOLVER UN PROBLEMA?\",\n",
    "             14:\"¿TIENE DEFINIDOS CORRECTAMENTE LOS ROLES DENTRO DE SU ORGANIZACIÓN?\",\n",
    "             15:\"¿IMPLEMENTA CAPACITACIONES PARA SUS TRABAJADORES?\",\n",
    "             16:\"¿IMPLEMENTA KPI PARA TENER ESTATUS DE SUS PROYECTOS?\",\n",
    "             17:\"¿INVIERTE EN AUTOMATIZACION DE PROCESOS?\",\n",
    "             18:\"¿TIENE UNA PAGINA WEB ?\",\n",
    "             19:\"¿TIENE UNA TIENDA ONLINE?\",\n",
    "             20:\"¿REALIZA CAMPAÑAS DE MARKETING DIGITAL?\",\n",
    "             21:\"¿TIENE SERVICIO DE ATENCION AL CLIENTE?\",\n",
    "             22:\"¿DEL TOTAL DE REPORTES QUE MANEJA, QUE PORCENTAJE ESTA AUTOMATIZADO?\"\n",
    "             }"
   ]
  },
  {
   "cell_type": "code",
   "execution_count": 4,
   "id": "9336b88c-5877-4373-a06b-9ee2be126fe4",
   "metadata": {},
   "outputs": [],
   "source": [
    "QUESTION_REFERENCE=[\"¿TIENE CLARO EL OBJETIVO DE SU EMPRESA?\",\n",
    "\"¿TIENE CLARO SUS OBJETIVOS SEMANALES?\",\n",
    "\"¿PROGRAMA SECIONES PARA DEFINIR LOS OBJETIVOS?\",\n",
    "\"¿MANEJA UN CRONOGRAMA CON LOS HITOS IMPORTANTES?\",\n",
    "\"¿SE APEGA A LA PLANEACIÓN DE SUS OBJETIVOS EN TIEMPO Y FORMA?\",\n",
    "\"¿ADECUA SUS ESTRATEGIAS PARA CUMPLIR CON LAS EXPECTATIVAS DE SUS CLIENTES?\",\n",
    "\"¿CAMBIA DE PLANES SIN AVISAR A SU EQUIPO?\",\n",
    "\"¿ACTUA DE MANERA RAPIDA PARA RESOLVER UN PROBLEMA?\",\n",
    "\"¿EXPLORA NUEVOS CAMINOS PARA RESOLVER UN PROBLEMA?\",\n",
    "\"¿SU EQUIPO PROPONE SOLUCIONES PARA RESOLVER UN PROBLEMA?\",\n",
    "\"¿PROGRAMA REUNIONES DE TRABAJO CON SU EQUIPO PARA DAR PROPUESTAS?\",\n",
    "\"¿ACTUA DE MANERA RAPIDA PARA RESOLVER UN PROBLEMA?\",\n",
    "\"¿SOLICITA AYUDA EXTERNA, COMO CONSULTORIAS, PARA RESOLVER UN PROBLEMA?\",\n",
    "\"¿TIENE DEFINIDOS CORRECTAMENTE LOS ROLES DENTRO DE SU ORGANIZACIÓN?\",\n",
    "\"¿IMPLEMENTA CAPACITACIONES PARA SUS TRABAJADORES?\",\n",
    "\"¿IMPLEMENTA KPI PARA TENER ESTATUS DE SUS PROYECTOS?\",\n",
    "\"¿INVIERTE EN AUTOMATIZACION DE PROCESOS?\",\n",
    "\"¿TIENE UNA PAGINA WEB ?\",\n",
    "\"¿TIENE UNA TIENDA ONLINE?\",\n",
    "\"¿REALIZA CAMPAÑAS DE MARKETING DIGITAL?\",\n",
    "\"¿TIENE SERVICIO DE ATENCION AL CLIENTE?\",\n",
    "\"¿DEL TOTAL DE REPORTES QUE MANEJA, QUE PORCENTAJE ESTA AUTOMATIZADO?\"]"
   ]
  },
  {
   "cell_type": "code",
   "execution_count": 5,
   "id": "64dd4bc0-4971-4570-9837-13663da43563",
   "metadata": {},
   "outputs": [],
   "source": [
    "CATEGORY_REFERENCE=[\n",
    "\"STRATEGY\",\n",
    "\"STRATEGY\",\n",
    "\"STRATEGY\",\n",
    "\"STRATEGY\",\n",
    "\"STRATEGY\",\n",
    "\"STRATEGY\",\n",
    "\"CULTURE\",\n",
    "\"CULTURE\",\n",
    "\"CULTURE\",\n",
    "\"CULTURE\",\n",
    "\"CULTURE\",\n",
    "\"CULTURE\",\n",
    "\"CULTURE\",\n",
    "\"ORGANIZATION\",\n",
    "\"ORGANIZATION\",\n",
    "\"ORGANIZATION\",\n",
    "\"ORGANIZATION\",\n",
    "\"CAPACITY\",\n",
    "\"CAPACITY\",\n",
    "\"CAPACITY\",\n",
    "\"CAPACITY\",\n",
    "\"CAPACITY\"]"
   ]
  },
  {
   "cell_type": "code",
   "execution_count": 6,
   "id": "f4ce99a7-6900-4bfd-b677-b390e59feeb7",
   "metadata": {},
   "outputs": [],
   "source": [
    "VALUES_REFERENCE=[10,10,10,10,10,10,10,10,10,10,10,10,10,10,4,1,1,1,1,1,1,10]"
   ]
  },
  {
   "cell_type": "code",
   "execution_count": 7,
   "id": "a9d81617-ade4-4579-aac2-49277322daab",
   "metadata": {},
   "outputs": [],
   "source": [
    "def ResumeFormDigitalTransform(data,company):\n",
    "    \"\"\"Return a Data Frame resume from the form in the 4 categorys (Strategy,Culture,Organization and Capacity)\"\"\"\n",
    "    \n",
    "    Only_One_Company=data[data[1]==company]\n",
    "    Only_One_Company=Only_One_Company.reset_index()\n",
    "    Only_One_Company.drop(columns=[\"index\"])\n",
    "    ColumnName=Only_One_Company.iloc[0][1]\n",
    "    \n",
    "    Only_One_Company=Only_One_Company.rename(columns=Questions)\n",
    "\n",
    "    #Transpose the data frame\n",
    "    Get_Data_Transform=Only_One_Company.transpose()\n",
    "    Get_Data_Transform=Get_Data_Transform.reset_index()\n",
    "\n",
    "    #Eliminate the fisrt column\n",
    "    Get_Data_Transform=Get_Data_Transform.iloc[1:,]\n",
    "    \n",
    "\n",
    "    #Rename the dataFrame\n",
    "    Get_Data_Transform=Get_Data_Transform.rename(columns={0:ColumnName,\n",
    "                                                      \"index\":\"QUESTIONS\"})\n",
    "    #Eliminate the first column again\n",
    "    Get_Data_Transform=Get_Data_Transform.iloc[1:,]\n",
    "    \n",
    "    #First section\n",
    "    Get_Data_Transform\n",
    "\n",
    "    #Get a reference\n",
    "    DATA_REFERENCE={\"REFERENCE\":VALUES_REFERENCE,\n",
    "                    \"QUESTIONS\":QUESTION_REFERENCE,\n",
    "                    \"CATEGORY\":CATEGORY_REFERENCE}\n",
    "\n",
    "    REFERENCE_DATAFRAME=pd.DataFrame(DATA_REFERENCE)\n",
    "\n",
    "    #Merge the data\n",
    "    ALL_DATA=REFERENCE_DATAFRAME.merge(Get_Data_Transform)\n",
    "\n",
    "    #Create the pivot table\n",
    "    Operations={'REFERENCE':'sum',ColumnName:'sum'}\n",
    "    ALL_DATA_GROUP=ALL_DATA.groupby('CATEGORY').agg(Operations)\n",
    "    ALL_DATA_GROUP['REFERENCE %']=ALL_DATA_GROUP['REFERENCE']/ALL_DATA_GROUP['REFERENCE']\n",
    "    ALL_DATA_GROUP['REAL %']=ALL_DATA_GROUP[ColumnName]/ALL_DATA_GROUP['REFERENCE']\n",
    "    ALL_DATA_GROUP=ALL_DATA_GROUP.reset_index()\n",
    "\n",
    "    return ALL_DATA_GROUP"
   ]
  },
  {
   "cell_type": "code",
   "execution_count": 8,
   "id": "fd88aeea-f515-4a18-9571-4650df957f98",
   "metadata": {},
   "outputs": [],
   "source": [
    "piloto=ResumeFormDigitalTransform(DataFrameAnswer,\"VEQ3\")"
   ]
  },
  {
   "cell_type": "code",
   "execution_count": 9,
   "id": "70f53b5b-22d0-4863-94f0-279a8f05e75f",
   "metadata": {},
   "outputs": [
    {
     "data": {
      "text/html": [
       "<div>\n",
       "<style scoped>\n",
       "    .dataframe tbody tr th:only-of-type {\n",
       "        vertical-align: middle;\n",
       "    }\n",
       "\n",
       "    .dataframe tbody tr th {\n",
       "        vertical-align: top;\n",
       "    }\n",
       "\n",
       "    .dataframe thead th {\n",
       "        text-align: right;\n",
       "    }\n",
       "</style>\n",
       "<table border=\"1\" class=\"dataframe\">\n",
       "  <thead>\n",
       "    <tr style=\"text-align: right;\">\n",
       "      <th></th>\n",
       "      <th>CATEGORY</th>\n",
       "      <th>REFERENCE</th>\n",
       "      <th>VEQ3</th>\n",
       "      <th>REFERENCE %</th>\n",
       "      <th>REAL %</th>\n",
       "    </tr>\n",
       "  </thead>\n",
       "  <tbody>\n",
       "    <tr>\n",
       "      <th>0</th>\n",
       "      <td>CAPACITY</td>\n",
       "      <td>14</td>\n",
       "      <td>11</td>\n",
       "      <td>1.0</td>\n",
       "      <td>0.785714</td>\n",
       "    </tr>\n",
       "    <tr>\n",
       "      <th>1</th>\n",
       "      <td>CULTURE</td>\n",
       "      <td>90</td>\n",
       "      <td>67</td>\n",
       "      <td>1.0</td>\n",
       "      <td>0.744444</td>\n",
       "    </tr>\n",
       "    <tr>\n",
       "      <th>2</th>\n",
       "      <td>ORGANIZATION</td>\n",
       "      <td>16</td>\n",
       "      <td>9</td>\n",
       "      <td>1.0</td>\n",
       "      <td>0.5625</td>\n",
       "    </tr>\n",
       "    <tr>\n",
       "      <th>3</th>\n",
       "      <td>STRATEGY</td>\n",
       "      <td>50</td>\n",
       "      <td>38</td>\n",
       "      <td>1.0</td>\n",
       "      <td>0.76</td>\n",
       "    </tr>\n",
       "  </tbody>\n",
       "</table>\n",
       "</div>"
      ],
      "text/plain": [
       "       CATEGORY  REFERENCE VEQ3  REFERENCE %    REAL %\n",
       "0      CAPACITY         14   11          1.0  0.785714\n",
       "1       CULTURE         90   67          1.0  0.744444\n",
       "2  ORGANIZATION         16    9          1.0    0.5625\n",
       "3      STRATEGY         50   38          1.0      0.76"
      ]
     },
     "execution_count": 9,
     "metadata": {},
     "output_type": "execute_result"
    }
   ],
   "source": [
    "piloto"
   ]
  },
  {
   "cell_type": "code",
   "execution_count": 10,
   "id": "4b685316-382c-4e44-aa5e-7e37c4d33362",
   "metadata": {},
   "outputs": [],
   "source": [
    "def RadarChart(data):\n",
    "    NAME_VARS=list(data['CATEGORY'].unique())\n",
    "    num_vars=len(NAME_VARS)\n",
    "    centre = 0.5\n",
    "    \n",
    "    theta = np.linspace(0, 2*np.pi, num_vars, endpoint=False)\n",
    "    # rotate theta such that the first axis is at the top\n",
    "    theta += np.pi/2\n",
    "    \n",
    "    def unit_poly_verts(theta, centre ):\n",
    "        \"\"\"Return vertices of polygon for subplot axes.\n",
    "        This polygon is circumscribed by a unit circle centered at (0.5, 0.5)\n",
    "        \"\"\"\n",
    "        x0, y0, r = [centre ] * 3\n",
    "        verts = [(r*np.cos(t) + x0, r*np.sin(t) + y0) for t in theta]\n",
    "        return verts\n",
    "    \n",
    "    def radar_patch(r, theta, centre ):\n",
    "        \"\"\" Returns the x and y coordinates corresponding to the magnitudes of \n",
    "        each variable displayed in the radar plot\n",
    "        \"\"\"\n",
    "        # offset from centre of circle\n",
    "        offset = 0.01\n",
    "        yt = (r*centre + offset) * np.sin(theta) + centre \n",
    "        xt = (r*centre + offset) * np.cos(theta) + centre \n",
    "        return xt, yt\n",
    "        \n",
    "    verts = unit_poly_verts(theta, centre)\n",
    "    x = [v[0] for v in verts] \n",
    "    y = [v[1] for v in verts] \n",
    "    \n",
    "    p = figure(title=\"Digital habilities - Radar plot\")\n",
    "    text = [NAME_VARS[0],NAME_VARS[1],NAME_VARS[2],NAME_VARS[3],'']\n",
    "    source = ColumnDataSource({'x':x + [centre ],'y':y + [1],'text':text})\n",
    "    \n",
    "    p.line(x=\"x\", y=\"y\", source=source)\n",
    "    \n",
    "    labels = LabelSet(x=\"x\",y=\"y\",text=\"text\",source=source)\n",
    "    \n",
    "    p.add_layout(labels)\n",
    "    \n",
    "    # example factor:\n",
    "    f1 = np.array(list(data[\"REAL %\"]))\n",
    "    f2 = np.array([0.00, 0.00, 0.00, 0.00])\n",
    "    #xt = np.array(x)\n",
    "    flist = [f1,f2]\n",
    "    colors = ['blue','green']\n",
    "    for i in range(len(flist)):\n",
    "        xt, yt = radar_patch(flist[i], theta, centre)\n",
    "        p.patch(x=xt, y=yt, fill_alpha=0.15, fill_color=colors[i])\n",
    "    return p"
   ]
  },
  {
   "cell_type": "code",
   "execution_count": 11,
   "id": "96f29d0b-8120-454d-b32a-ac30535b95e7",
   "metadata": {},
   "outputs": [],
   "source": [
    "def CDMckinsey(data):\n",
    "    verts=list(data[\"REAL %\"])\n",
    "    AT=(1/2)*(verts[0]+verts[2])*(verts[1]+verts[3])\n",
    "    AT_REFERENCE=(1/2)*(1+1)*(1+1)\n",
    "    CD=AT/AT_REFERENCE\n",
    "    return CD"
   ]
  },
  {
   "cell_type": "code",
   "execution_count": 12,
   "id": "b4f9ec5b-c21a-4bcd-b3d2-89ab1eec1c2c",
   "metadata": {},
   "outputs": [],
   "source": [
    "def CDMckinseyList(verts):\n",
    "    AT=(1/2)*(verts[0]+verts[2])*(verts[1]+verts[3])\n",
    "    AT_REFERENCE=(1/2)*(1+1)*(1+1)\n",
    "    CD=AT/AT_REFERENCE\n",
    "    return AT,CD"
   ]
  },
  {
   "cell_type": "code",
   "execution_count": 13,
   "id": "186a4c1c-4306-416a-8440-033db4d57aed",
   "metadata": {},
   "outputs": [],
   "source": [
    "GraphRadar=RadarChart(piloto)\n",
    "show(GraphRadar)"
   ]
  },
  {
   "cell_type": "code",
   "execution_count": 14,
   "id": "4ce6a245-5e72-476d-8c67-677c0d190590",
   "metadata": {},
   "outputs": [],
   "source": [
    "CD_PILOTO=CDMckinsey(piloto)"
   ]
  },
  {
   "cell_type": "code",
   "execution_count": 15,
   "id": "11bd5cc6-7ce0-4e46-bd74-02b3b5ea450b",
   "metadata": {},
   "outputs": [
    {
     "data": {
      "text/plain": [
       "0.507078373015873"
      ]
     },
     "execution_count": 15,
     "metadata": {},
     "output_type": "execute_result"
    }
   ],
   "source": [
    "CD_PILOTO"
   ]
  },
  {
   "cell_type": "code",
   "execution_count": null,
   "id": "83b02ceb-6f76-4870-99ac-4efa177336bf",
   "metadata": {},
   "outputs": [],
   "source": []
  }
 ],
 "metadata": {
  "kernelspec": {
   "display_name": "Python 3 (ipykernel)",
   "language": "python",
   "name": "python3"
  },
  "language_info": {
   "codemirror_mode": {
    "name": "ipython",
    "version": 3
   },
   "file_extension": ".py",
   "mimetype": "text/x-python",
   "name": "python",
   "nbconvert_exporter": "python",
   "pygments_lexer": "ipython3",
   "version": "3.10.1"
  }
 },
 "nbformat": 4,
 "nbformat_minor": 5
}
